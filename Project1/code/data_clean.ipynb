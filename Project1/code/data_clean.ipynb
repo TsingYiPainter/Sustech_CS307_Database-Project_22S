{
 "cells": [
  {
   "cell_type": "code",
   "execution_count": 7,
   "id": "8fee48f3",
   "metadata": {},
   "outputs": [
    {
     "name": "stdout",
     "output_type": "stream",
     "text": [
      "{'encoding': 'utf-8', 'confidence': 0.99, 'language': ''}\n",
      "overview\n",
      "<class 'pandas.core.frame.DataFrame'>\n",
      "RangeIndex: 50000 entries, 0 to 49999\n",
      "Data columns (total 21 columns):\n",
      " #   Column                   Non-Null Count  Dtype  \n",
      "---  ------                   --------------  -----  \n",
      " 0   contract number          50000 non-null  object \n",
      " 1   client enterprise        50000 non-null  object \n",
      " 2   supply center            50000 non-null  object \n",
      " 3   country                  50000 non-null  object \n",
      " 4   city                     7007 non-null   object \n",
      " 5   industry                 50000 non-null  object \n",
      " 6   product code             50000 non-null  object \n",
      " 7   product name             50000 non-null  object \n",
      " 8   product model            50000 non-null  object \n",
      " 9   unit price               50000 non-null  int64  \n",
      " 10  quantity                 50000 non-null  int64  \n",
      " 11  contract date            50000 non-null  object \n",
      " 12  estimated delivery date  50000 non-null  object \n",
      " 13  lodgement date           49866 non-null  object \n",
      " 14  director                 50000 non-null  object \n",
      " 15  salesman                 50000 non-null  object \n",
      " 16  salesman number          50000 non-null  int64  \n",
      " 17  gender                   50000 non-null  object \n",
      " 18  age                      50000 non-null  int64  \n",
      " 19  mobile phone             50000 non-null  int64  \n",
      " 20  Unnamed: 20              0 non-null      float64\n",
      "dtypes: float64(1), int64(5), object(15)\n",
      "memory usage: 8.0+ MB\n"
     ]
    }
   ],
   "source": [
    "import pandas as pd\n",
    "import chardet as cd\n",
    "'''以二进制方式打开文件，读取前100000个字符猜测编码方式'''\n",
    "with open(\"contract_info.csv\",'rb') as temp:\n",
    "    encodingType=cd.detect(temp.read(100000))\n",
    "    print(encodingType)\n",
    "'''以正确的解码方式打开文件'''\n",
    "hw=pd.read_csv(\"contract_info.csv\",encoding=encodingType['encoding'])\n",
    "print('overview')\n",
    "hw.info()"
   ]
  },
  {
   "cell_type": "code",
   "execution_count": 8,
   "id": "44c875c8",
   "metadata": {},
   "outputs": [
    {
     "data": {
      "text/plain": [
       "(990, 2)"
      ]
     },
     "execution_count": 8,
     "metadata": {},
     "output_type": "execute_result"
    }
   ],
   "source": [
    "hw.drop_duplicates(subset='salesman number').drop_duplicates(subset='mobile phone')\n",
    "[['salesman number','mobile phone']].shape"
   ]
  },
  {
   "cell_type": "code",
   "execution_count": 9,
   "id": "23c0e763",
   "metadata": {},
   "outputs": [
    {
     "data": {
      "text/plain": [
       "(961,)"
      ]
     },
     "execution_count": 9,
     "metadata": {},
     "output_type": "execute_result"
    }
   ],
   "source": [
    "hw.drop_duplicates(subset='product model')['product model'].shape"
   ]
  },
  {
   "cell_type": "code",
   "execution_count": 13,
   "id": "cf39b725",
   "metadata": {},
   "outputs": [
    {
     "data": {
      "text/plain": [
       "(167,)"
      ]
     },
     "execution_count": 13,
     "metadata": {},
     "output_type": "execute_result"
    }
   ],
   "source": [
    "hw.drop_duplicates(subset='client enterprise')['client enterprise'].shape"
   ]
  },
  {
   "cell_type": "code",
   "execution_count": 11,
   "id": "14fb6bc3",
   "metadata": {},
   "outputs": [
    {
     "data": {
      "text/plain": [
       "(45, 21)"
      ]
     },
     "execution_count": 11,
     "metadata": {},
     "output_type": "execute_result"
    }
   ],
   "source": [
    "hw['lodgement date']=pd.to_datetime(hw['lodgement date'],format='%Y/%m/%d')\n",
    "hw[hw['lodgement date']>pd.to_datetime('2022-03-02')].shape"
   ]
  }
 ],
 "metadata": {
  "kernelspec": {
   "display_name": "Python 3 (ipykernel)",
   "language": "python",
   "name": "python3"
  },
  "language_info": {
   "codemirror_mode": {
    "name": "ipython",
    "version": 3
   },
   "file_extension": ".py",
   "mimetype": "text/x-python",
   "name": "python",
   "nbconvert_exporter": "python",
   "pygments_lexer": "ipython3",
   "version": "3.9.7"
  },
  "varInspector": {
   "cols": {
    "lenName": 16,
    "lenType": 16,
    "lenVar": 40
   },
   "kernels_config": {
    "python": {
     "delete_cmd_postfix": "",
     "delete_cmd_prefix": "del ",
     "library": "var_list.py",
     "varRefreshCmd": "print(var_dic_list())"
    },
    "r": {
     "delete_cmd_postfix": ") ",
     "delete_cmd_prefix": "rm(",
     "library": "var_list.r",
     "varRefreshCmd": "cat(var_dic_list()) "
    }
   },
   "types_to_exclude": [
    "module",
    "function",
    "builtin_function_or_method",
    "instance",
    "_Feature"
   ],
   "window_display": false
  }
 },
 "nbformat": 4,
 "nbformat_minor": 5
}

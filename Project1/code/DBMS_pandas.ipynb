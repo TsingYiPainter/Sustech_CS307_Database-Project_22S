{
 "cells": [
  {
   "cell_type": "code",
   "execution_count": 1,
   "id": "3f3b4f2a",
   "metadata": {},
   "outputs": [],
   "source": [
    "import time\n",
    "import psycopg2\n",
    "import chardet as cd\n",
    "import pandas as pd\n",
    "import numpy as np\n",
    "from sqlalchemy import create_engine\n",
    "\n",
    "with open(\"contract_info.csv\",'rb') as temp:\n",
    "    encodingType=cd.detect(temp.read(100000))\n",
    "    \n",
    "data=pd.read_csv(\"contract_info.csv\",encoding=encodingType['encoding'])\n",
    "db_engine  = create_engine('postgresql+psycopg2://' + 'postgres' + ':' + 'wyh638' + '@localhost' + ':' + str(5432) + '/' + 'Project1_python')\n",
    "\n",
    "orders_f=data[['contract number','product model','quantity','estimated delivery date','lodgement date','salesman number']].copy()\n",
    "orders_f['lodgement date']=pd.to_datetime(data['lodgement date'],format='%Y/%m/%d')\n",
    "orders_f['estimated delivery date']=pd.to_datetime(data['estimated delivery date'],format='%Y/%m/%d')\n",
    "orders_f.loc[orders_f['lodgement date']>pd.to_datetime('2022-03-02'),['lodgement date']]=None\n",
    "data_t=np.arange(1,len(orders_f)+1).reshape(len(orders_f),-1)\n",
    "data_f=pd.DataFrame(data_t,columns=['orders_number'])\n",
    "orders=pd.concat([data_f,orders_f],axis=1)\n",
    "orders_reSet=orders\n",
    "orders_del=orders\n",
    "orders_add=orders\n",
    "#orders.info()\n",
    "#orders.to_csv('orders.csv',index=False)\n",
    "\n",
    "contract=data[['contract number','client enterprise','supply center','contract date']].copy()\n",
    "contract.drop_duplicates(subset='contract number',inplace=True)\n",
    "#contract.info()\n",
    "\n",
    "product=data[['product model','product code','product name','unit price']].copy()\n",
    "product.drop_duplicates(subset='product model',inplace=True)\n",
    "#product.info()\n",
    "\n",
    "salesman=data[['salesman number','salesman','gender','age','mobile phone']].copy()\n",
    "salesman.drop_duplicates(subset='salesman number',inplace=True)\n",
    "salesman.drop_duplicates(subset='mobile phone',inplace=True)\n",
    "#salesman.info()"
   ]
  },
  {
   "cell_type": "code",
   "execution_count": 70,
   "id": "0180a3ef",
   "metadata": {},
   "outputs": [
    {
     "name": "stdout",
     "output_type": "stream",
     "text": [
      "DBMS totally cost 13.557195663452148  ms\n",
      "Python totally cost 3.004789352416992  ms\n"
     ]
    }
   ],
   "source": [
    "#无条件，distinct\n",
    "time_start=time.time()\n",
    "databaseData = pd.read_sql(\"select distinct(salemans_id) from orders\",con=db_engine)      \n",
    "time_end=time.time()\n",
    "print('DBMS totally cost',(time_end-time_start)*1000, ' ms')\n",
    "\n",
    "time_start=time.time()\n",
    "orders.drop_duplicates(subset='salesman number',inplace=False)['salesman number']\n",
    "time_end=time.time()\n",
    "print('Python totally cost',(time_end-time_start)*1000, ' ms')\n"
   ]
  },
  {
   "cell_type": "code",
   "execution_count": 50,
   "id": "e303a0ce",
   "metadata": {},
   "outputs": [
    {
     "name": "stdout",
     "output_type": "stream",
     "text": [
      "DBMS totally cost 10.5133056640625  ms\n",
      "Python totally cost 2.1996498107910156  ms\n"
     ]
    }
   ],
   "source": [
    "#单条件查询\n",
    "time_start=time.time()\n",
    "databaseData = pd.read_sql(\"select * from orders where quantity=480\",con=db_engine)      \n",
    "time_end=time.time()\n",
    "print('DBMS totally cost',(time_end-time_start)*1000, ' ms')\n",
    "\n",
    "time_start=time.time()\n",
    "orders[((orders.quantity==480))]\n",
    "time_end=time.time()\n",
    "print('Python totally cost',(time_end-time_start)*1000, ' ms')"
   ]
  },
  {
   "cell_type": "code",
   "execution_count": 49,
   "id": "6c3b42ef",
   "metadata": {},
   "outputs": [
    {
     "name": "stdout",
     "output_type": "stream",
     "text": [
      "DBMS totally cost 12.992620468139648  ms\n",
      "Python totally cost 3.005504608154297  ms\n"
     ]
    }
   ],
   "source": [
    "#多条件查询\n",
    "time_start=time.time()\n",
    "databaseData = pd.read_sql(\"select * from orders where quantity=480 and estimated_d>('2022-01-01'::date)\",con=db_engine)      \n",
    "time_end=time.time()\n",
    "print('DBMS totally cost',(time_end-time_start)*1000, ' ms')\n",
    "\n",
    "\n",
    "time_start=time.time()\n",
    "orders[((orders.quantity==480)|(orders['estimated delivery date']>pd.to_datetime('2022-01-01')))]\n",
    "time_end=time.time()\n",
    "print('Python totally cost',(time_end-time_start)*1000, ' ms')"
   ]
  },
  {
   "cell_type": "code",
   "execution_count": 89,
   "id": "86add9a4",
   "metadata": {},
   "outputs": [
    {
     "name": "stdout",
     "output_type": "stream",
     "text": [
      "DBMS totally cost 16.190767288208008  ms\n",
      "Python totally cost 5.995988845825195  ms\n"
     ]
    }
   ],
   "source": [
    "#聚合函数\n",
    "time_start=time.time()\n",
    "databaseData = pd.read_sql(\"select salemans_id,max(quantity) from orders group by (salemans_id)\",con=db_engine)\n",
    "time_end=time.time()\n",
    "print('DBMS totally cost',(time_end-time_start)*1000, ' ms')\n",
    "\n",
    "time_start=time.time()\n",
    "t=orders.groupby('salesman number').max('quantity')\n",
    "time_end=time.time()\n",
    "print('Python totally cost',(time_end-time_start)*1000, ' ms')"
   ]
  },
  {
   "cell_type": "code",
   "execution_count": 123,
   "id": "bdcf6d0a",
   "metadata": {},
   "outputs": [
    {
     "name": "stdout",
     "output_type": "stream",
     "text": [
      "inner join DBMS totally cost 156.99458122253418  ms\n",
      "inner join Python totally cost 18.998146057128906  ms\n",
      "left join DBMS totally cost 137.0067596435547  ms\n",
      "left join Python totally cost 15.601158142089844  ms\n"
     ]
    }
   ],
   "source": [
    "#多表查询inner join\n",
    "time_start=time.time()\n",
    "databaseData = pd.read_sql(\"select contract_number,product_m,p.name,p.code from orders join product p on orders.product_m=p.model;\",con=db_engine)\n",
    "time_end=time.time()\n",
    "print('inner join DBMS totally cost',(time_end-time_start)*1000, ' ms')\n",
    "\n",
    "time_start=time.time()\n",
    "result=pd.merge(orders,product,on='product model')[['contract number','product model','product name','product code']]\n",
    "time_end=time.time()\n",
    "print('inner join Python totally cost',(time_end-time_start)*1000, ' ms')\n",
    "\n",
    "#多表查询 leftjoin\n",
    "time_start=time.time()\n",
    "databaseData = pd.read_sql(\"select contract_number,product_m,p.name,p.code from orders left join product p on orders.product_m=p.model;\",con=db_engine)\n",
    "time_end=time.time()\n",
    "print('left join DBMS totally cost',(time_end-time_start)*1000, ' ms')\n",
    "\n",
    "time_start=time.time()\n",
    "result=pd.merge(orders,product,on='product model',how='left')[['contract number','product model','product name','product code']]\n",
    "time_end=time.time()\n",
    "print('left join Python totally cost',(time_end-time_start)*1000, ' ms')"
   ]
  },
  {
   "cell_type": "code",
   "execution_count": 91,
   "id": "6b730dd2",
   "metadata": {},
   "outputs": [
    {
     "name": "stdout",
     "output_type": "stream",
     "text": [
      "inner join（3） DBMS totally cost 233.98756980895996  ms\n",
      "left join(3) Python totally cost 46.99993133544922  ms\n"
     ]
    }
   ],
   "source": [
    "#多表查询inner join（3个表）\n",
    "time_start=time.time()\n",
    "databaseData = pd.read_sql(\"select contract_number,product_m,p.name,p.code,s.name from orders join product p on orders.product_m=p.model join salesman s on orders.salemans_id = s.number;\",con=db_engine)\n",
    "time_end=time.time()\n",
    "print('inner join（3） DBMS totally cost',(time_end-time_start)*1000, ' ms')\n",
    "\n",
    "time_start=time.time()\n",
    "result=pd.merge(orders,product,on='product model')\n",
    "result=pd.merge(result,salesman,on='salesman number')[['contract number','product model','product name','product code','salesman']]\n",
    "time_end=time.time()\n",
    "print('left join(3) Python totally cost',(time_end-time_start)*1000, ' ms')"
   ]
  },
  {
   "cell_type": "code",
   "execution_count": 111,
   "id": "72a11641",
   "metadata": {},
   "outputs": [
    {
     "name": "stdout",
     "output_type": "stream",
     "text": [
      "DBMS1 totally cost 14.067411422729492  ms\n",
      "Python totally cost 5.010843276977539  ms\n"
     ]
    }
   ],
   "source": [
    "#更新数据\n",
    "time_start=time.time()\n",
    "pd.read_sql(\"update orders set quantity =quantity*2 where contract_number='CSE0004999'\",con=db_engine,chunksize=1000)\n",
    "time_end=time.time()\n",
    "print('DBMS1 totally cost',(time_end-time_start)*1000, ' ms')\n",
    "\n",
    "time_start=time.time()\n",
    "orders_reSet.loc[orders_reSet['contract number']=='CSE0004999',['quantity']]*=2\n",
    "time_end=time.time()\n",
    "print('Python totally cost',(time_end-time_start)*1000, ' ms')"
   ]
  },
  {
   "cell_type": "code",
   "execution_count": 124,
   "id": "ef214864",
   "metadata": {},
   "outputs": [
    {
     "name": "stdout",
     "output_type": "stream",
     "text": [
      "DBMS totally cost 15.002965927124023  ms\n",
      "Python totally cost 9.990215301513672  ms\n"
     ]
    }
   ],
   "source": [
    "#删除数据（删36条数据）\n",
    "time_start=time.time()\n",
    "pd.read_sql(\"delete from orders where contract_number='CSE0004999'\",con=db_engine,chunksize=1)\n",
    "time_end=time.time()\n",
    "print('DBMS totally cost',(time_end-time_start)*1000, ' ms')\n",
    "\n",
    "time_start=time.time()\n",
    "orders_del.drop(orders_del[orders_del['contract number']=='CSE0004999'].index,inplace=True)\n",
    "time_end=time.time()\n",
    "print('Python totally cost',(time_end-time_start)*1000, ' ms')"
   ]
  },
  {
   "cell_type": "code",
   "execution_count": 2,
   "id": "a294160d",
   "metadata": {},
   "outputs": [
    {
     "name": "stdout",
     "output_type": "stream",
     "text": [
      "DBMS totally cost 16913.057804107666  ms\n",
      "Python totally cost 61468.04356575012  ms\n"
     ]
    }
   ],
   "source": [
    "#增添数据\n",
    "time_start=time.time()\n",
    "for i in range(1,10000):\n",
    "    pd.read_sql(\"insert into orders values(\"+str(50000+i)+\",'CSE0004999','TvBaseR1',1,('2022-01-01'::date),('2022-01-01'::date),11211429);\",con=db_engine,chunksize=1000)\n",
    "    #print(\"insert into orders values(\"+str(50000+i)+\",'CSE0004999','TvBaseR1',1,('2022-01-01'::date),('2022-01-01'::date),11211429\");\n",
    "time_end=time.time()\n",
    "print('DBMS totally cost',(time_end-time_start)*1000, ' ms')\n",
    "\n",
    "time_start=time.time()\n",
    "for i in range(1,10000):\n",
    "    orders_add.loc[orders_add.shape[0]]=[orders_add.shape[0]+1,'CSE0004999','TvBaseR1',1,pd.to_datetime('2022-01-01'),pd.to_datetime('2022-01-01'),11211429]\n",
    "time_end=time.time()\n",
    "print('Python totally cost',(time_end-time_start)*1000, ' ms')"
   ]
  },
  {
   "cell_type": "code",
   "execution_count": 136,
   "id": "3df6285a",
   "metadata": {},
   "outputs": [],
   "source": []
  }
 ],
 "metadata": {
  "kernelspec": {
   "display_name": "Python 3 (ipykernel)",
   "language": "python",
   "name": "python3"
  },
  "language_info": {
   "codemirror_mode": {
    "name": "ipython",
    "version": 3
   },
   "file_extension": ".py",
   "mimetype": "text/x-python",
   "name": "python",
   "nbconvert_exporter": "python",
   "pygments_lexer": "ipython3",
   "version": "3.9.7"
  },
  "varInspector": {
   "cols": {
    "lenName": 16,
    "lenType": 16,
    "lenVar": 40
   },
   "kernels_config": {
    "python": {
     "delete_cmd_postfix": "",
     "delete_cmd_prefix": "del ",
     "library": "var_list.py",
     "varRefreshCmd": "print(var_dic_list())"
    },
    "r": {
     "delete_cmd_postfix": ") ",
     "delete_cmd_prefix": "rm(",
     "library": "var_list.r",
     "varRefreshCmd": "cat(var_dic_list()) "
    }
   },
   "types_to_exclude": [
    "module",
    "function",
    "builtin_function_or_method",
    "instance",
    "_Feature"
   ],
   "window_display": false
  }
 },
 "nbformat": 4,
 "nbformat_minor": 5
}

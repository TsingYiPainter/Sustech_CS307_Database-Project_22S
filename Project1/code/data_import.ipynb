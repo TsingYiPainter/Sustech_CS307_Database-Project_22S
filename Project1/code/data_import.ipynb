{
 "cells": [
  {
   "cell_type": "code",
   "execution_count": 7,
   "id": "f9b07c7b",
   "metadata": {},
   "outputs": [
    {
     "name": "stdout",
     "output_type": "stream",
     "text": [
      "{'encoding': 'utf-8', 'confidence': 0.99, 'language': ''}\n"
     ]
    }
   ],
   "source": [
    "import io\n",
    "import re\n",
    "import time\n",
    "import psycopg2\n",
    "import chardet as cd\n",
    "import pandas as pd\n",
    "from sqlalchemy import create_engine\n",
    "\n",
    "with open(\"contract_info.csv\",'rb') as temp:\n",
    "    encodingType=cd.detect(temp.read(100000))\n",
    "    print(encodingType)\n",
    "'''以正确的解码方式打开文件'''\n",
    "hw=pd.read_csv(\"contract_info.csv\",encoding=encodingType['encoding'])\n"
   ]
  },
  {
   "cell_type": "code",
   "execution_count": 8,
   "id": "558f67f2",
   "metadata": {},
   "outputs": [],
   "source": [
    "def write_to_table(df, table_name):\n",
    "    # 链接数据库\n",
    "    db_engine  = create_engine('postgresql+psycopg2://' + 'postgres' + ':' + 'wyh638' + '@localhost' + ':' + str(5432) + '/' + 'Project1_python')\n",
    "    string_data_io = io.StringIO()\n",
    "    \n",
    "    # 先将DataFrame转化为csv格式\n",
    "    df.to_csv(string_data_io, sep='|', index=False)\n",
    "    # 通过pandas的sql_bulider将数据转化为sql中的table的形式\n",
    "    pd_sql_engine = pd.io.sql.pandasSQL_builder(db_engine)\n",
    "    table = pd.io.sql.SQLTable(table_name, pd_sql_engine, frame=df,\n",
    "                               index=False, if_exists='append',schema = 'public')\n",
    "    table.create()\n",
    "    string_data_io.seek(0)\n",
    "    \n",
    "    # 通过sql的COPY命令将table复制到数据库中\n",
    "    with db_engine.connect() as connection:\n",
    "        with connection.connection.cursor() as cursor:\n",
    "            copy_cmd = \"COPY public.%s FROM STDIN HEADER DELIMITER '|' CSV\" %table_name\n",
    "            cursor.copy_expert(copy_cmd, string_data_io)\n",
    "        connection.connection.commit()"
   ]
  },
  {
   "cell_type": "code",
   "execution_count": 4,
   "id": "efb65c72",
   "metadata": {},
   "outputs": [
    {
     "name": "stdout",
     "output_type": "stream",
     "text": [
      "shape of data:  7  rows\n",
      "totally cost 0.09303402900695801 s\n"
     ]
    }
   ],
   "source": [
    "time_start=time.time()\n",
    "supply_center=hw[['supply center','director']].copy()\n",
    "supply_center.drop_duplicates(subset='supply center',inplace=True)\n",
    "write_to_table(supply_center,'supply_center')\n",
    "time_end=time.time()\n",
    "print('shape of data: ', supply_center.shape[0], ' rows')\n",
    "print('totally cost',time_end-time_start, 's')"
   ]
  },
  {
   "cell_type": "code",
   "execution_count": 40,
   "id": "494eb8b3",
   "metadata": {},
   "outputs": [
    {
     "name": "stdout",
     "output_type": "stream",
     "text": [
      "shape of data:  990  rows\n",
      "totally cost 0.06799864768981934 s\n"
     ]
    }
   ],
   "source": [
    "time_start=time.time()\n",
    "salesman=hw[['salesman number','salesman','gender','age','mobile phone']].copy()\n",
    "salesman.drop_duplicates(subset='salesman number',inplace=True)\n",
    "salesman.drop_duplicates(subset='mobile phone',inplace=True)\n",
    "#write_to_table(salesman,'salesman')\n",
    "salesman.to_csv('salesman.csv',index=False)\n",
    "time_end=time.time()\n",
    "print('shape of data: ', salesman.shape[0], ' rows')\n",
    "print('totally cost',time_end-time_start, 's')"
   ]
  },
  {
   "cell_type": "code",
   "execution_count": 41,
   "id": "55a8db0d",
   "metadata": {},
   "outputs": [
    {
     "name": "stdout",
     "output_type": "stream",
     "text": [
      "shape of data:  961  rows\n",
      "totally cost 0.050043344497680664 s\n"
     ]
    }
   ],
   "source": [
    "time_start=time.time()\n",
    "product=hw[['product model','product code','product name','unit price']].copy()\n",
    "product.drop_duplicates(subset='product model',inplace=True)\n",
    "write_to_table(product,'product')\n",
    "time_end=time.time()\n",
    "print('shape of data: ', product.shape[0], ' rows')\n",
    "print('totally cost',time_end-time_start, 's')"
   ]
  },
  {
   "cell_type": "code",
   "execution_count": 8,
   "id": "03b28a21",
   "metadata": {},
   "outputs": [
    {
     "name": "stdout",
     "output_type": "stream",
     "text": [
      "shape of data:  167  rows\n",
      "totally cost 0.08951878547668457 s\n"
     ]
    }
   ],
   "source": [
    "time_start=time.time()\n",
    "enterprise=hw[['client enterprise','country','city','industry']].copy()\n",
    "enterprise.drop_duplicates(subset='client enterprise',inplace=True)\n",
    "write_to_table(enterprise,'enterprise')\n",
    "time_end=time.time()\n",
    "print('shape of data: ',enterprise.shape[0], ' rows')\n",
    "print('totally cost',time_end-time_start, 's')\n",
    "\n"
   ]
  },
  {
   "cell_type": "code",
   "execution_count": 3,
   "id": "ec0fdacc",
   "metadata": {},
   "outputs": [
    {
     "name": "stdout",
     "output_type": "stream",
     "text": [
      "shape of data:  5000  rows\n",
      "totally cost 0.010005474090576172 s\n"
     ]
    }
   ],
   "source": [
    "time_start=time.time()\n",
    "contract=hw[['contract number','client enterprise','supply center','contract date']].copy()\n",
    "contract.drop_duplicates(subset='contract number',inplace=True)\n",
    "#write_to_table(contract,'contract')\n",
    "time_end=time.time()\n",
    "contract.to_csv('contract.csv',index=False)\n",
    "print('shape of data: ',contract.shape[0], ' rows')\n",
    "print('totally cost',time_end-time_start, 's')"
   ]
  },
  {
   "cell_type": "code",
   "execution_count": 12,
   "id": "19d89389",
   "metadata": {},
   "outputs": [
    {
     "name": "stdout",
     "output_type": "stream",
     "text": [
      "shape of data:  50000  rows\n",
      "totally cost 2.936455726623535 s\n"
     ]
    }
   ],
   "source": [
    "import numpy as np\n",
    "time_start=time.time()\n",
    "orders_f=hw[['contract number','product model','quantity','estimated delivery date','lodgement date','salesman number']].copy()\n",
    "orders_f['lodgement date']=pd.to_datetime(hw['lodgement date'],format='%Y/%m/%d')\n",
    "orders_f.loc[orders_f['lodgement date']>pd.to_datetime('2022-03-02'),['lodgement date']]=None\n",
    "data=np.arange(1,len(orders_f)+1).reshape(len(orders_f),-1)\n",
    "data\n",
    "data_f=pd.DataFrame(data)\n",
    "\n",
    "orders=pd.concat([data_f,orders_f],axis=1)\n",
    "orders.to_csv('orders.csv',index=False)\n",
    "write_to_table(orders,'orders')\n",
    "time_end=time.time()\n",
    "print('shape of data: ',orders.shape[0], ' rows')\n",
    "print('totally cost',time_end-time_start, 's')"
   ]
  },
  {
   "cell_type": "code",
   "execution_count": null,
   "id": "8ba02677",
   "metadata": {},
   "outputs": [],
   "source": []
  }
 ],
 "metadata": {
  "kernelspec": {
   "display_name": "Python 3 (ipykernel)",
   "language": "python",
   "name": "python3"
  },
  "language_info": {
   "codemirror_mode": {
    "name": "ipython",
    "version": 3
   },
   "file_extension": ".py",
   "mimetype": "text/x-python",
   "name": "python",
   "nbconvert_exporter": "python",
   "pygments_lexer": "ipython3",
   "version": "3.9.7"
  },
  "varInspector": {
   "cols": {
    "lenName": 16,
    "lenType": 16,
    "lenVar": 40
   },
   "kernels_config": {
    "python": {
     "delete_cmd_postfix": "",
     "delete_cmd_prefix": "del ",
     "library": "var_list.py",
     "varRefreshCmd": "print(var_dic_list())"
    },
    "r": {
     "delete_cmd_postfix": ") ",
     "delete_cmd_prefix": "rm(",
     "library": "var_list.r",
     "varRefreshCmd": "cat(var_dic_list()) "
    }
   },
   "types_to_exclude": [
    "module",
    "function",
    "builtin_function_or_method",
    "instance",
    "_Feature"
   ],
   "window_display": false
  }
 },
 "nbformat": 4,
 "nbformat_minor": 5
}
